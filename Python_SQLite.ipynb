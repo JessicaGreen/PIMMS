{
 "cells": [
  {
   "cell_type": "markdown",
   "metadata": {},
   "source": [
    "### The following are queries for a SQLite database, which can be run in either SQLite or Python"
   ]
  },
  {
   "cell_type": "markdown",
   "metadata": {},
   "source": [
    "This is a generic Python function to query the SQLite database and display select data in a pandas dataframe."
   ]
  },
  {
   "cell_type": "code",
   "execution_count": 25,
   "metadata": {
    "scrolled": true
   },
   "outputs": [
    {
     "name": "stdout",
     "output_type": "stream",
     "text": [
      "   analysis_status                                    analysis_folder\n",
      "0         Complete                            AAS Storage\\Korean (HT)\n",
      "1         Complete                      AAS Storage\\AAS Legacy Images\n",
      "2         Complete            AAS Storage\\AAS Reading Room catalogues\n",
      "3         Complete                             AAS Storage\\Adi Granth\n",
      "4         Complete                       AAS Storage\\Arabic (DL - CB)\n",
      "5         Complete                          AAS Storage\\Avestan (USW)\n",
      "6         Complete              AAS Storage\\Awaiting DIPS Publication\n",
      "7         Complete                      AAS Storage\\Chinese (SC - EG)\n",
      "8         Complete           Greek MSS Digitisation\\Greek MSS Phase 3\n",
      "9         Complete                                             SEAsia\n",
      "10        Complete                       AAS Storage\\West Africa (MW)\n",
      "11        Complete                     AAS Storage\\Japanese (HT - YO)\n",
      "12        Complete                            AAS Storage\\Coptic (IT)\n",
      "13        Complete                            AAS Storage\\Hebrew (IT)\n",
      "14        Complete        AAS Storage\\Microfiches and card catalogues\n",
      "15        Complete                    AAS Storage\\Mongolian (SC - BQ)\n",
      "16        Complete          AAS Storage\\Natural history drawings (MR)\n",
      "17        Complete                   AAS Storage\\North India (MC-NSK)\n",
      "18        Complete                    AAS Storage\\Persian (USW - MIW)\n",
      "19        Complete                          AAS Storage\\Sanskrit (PM)\n",
      "20        Complete          AAS Storage\\South India (South Asia team)\n",
      "21        Complete                   AAS Storage\\Southeast Asia (ATG)\n",
      "22        Complete                            AAS Storage\\Syriac (IT)\n",
      "23        Complete                           AAS Storage\\Tibetan (BQ)\n",
      "24        Complete                      AAS Storage\\Turkish (USW-MIW)\n",
      "25        Complete                 AAS Storage\\Urdu (South Asia team)\n",
      "26        Complete   AAS Storage\\ZZZ - UNIDENTIFIED OR UNFILED THINGS\n",
      "27        Complete                               Bollinger Map Images\n",
      "28        Complete  DCD\\Aleph collections\\Asian and African Collec...\n",
      "29        Complete  Digitised Content Workflow\\DAR00307 - Chinese ...\n",
      "..             ...                                                ...\n",
      "39        Complete  Greek MSS Digitisation\\Greek MSS Phase 2 Folde...\n",
      "40        Complete  Greek MSS Digitisation\\Greek MSS Phase 3 Folder 2\n",
      "41        Complete                                 Harley Science MSS\n",
      "42        Complete                            Hebrew MSS Digitisation\n",
      "43        Complete                                      ILLMSS_Images\n",
      "44        Complete                Legacy Digital Content\\Chinese maps\n",
      "45        Complete  Legacy Digital Content\\DAR00279 - Jonathan Loo...\n",
      "46        Complete               Legacy Digital Content\\John Falconer\n",
      "47        Complete                     Legacy Digital Content\\or_5315\n",
      "48        Complete  Legacy Digital Content\\Portfolio - Katie Eagleton\n",
      "49        Complete  Legacy Digital Content\\World Digital Library (...\n",
      "50        Complete                               Persian Digitisation\n",
      "51        Complete                Photographic Studio data\\from drive\n",
      "52        Complete  Photographic Studio data\\Sent from Boston Spa\\...\n",
      "53        Complete  Photographic Studio data\\Sent from Boston Spa\\...\n",
      "54        Complete  Photographic Studio data\\Sent from Boston Spa\\...\n",
      "55        Complete  Photographic Studio data\\Sent from Boston Spa\\...\n",
      "56        Complete  Photographic Studio data\\Sent from Boston Spa\\...\n",
      "57        Complete  Photographic Studio data\\Sent from Boston Spa\\...\n",
      "58        Complete  Photographic Studio data\\Sent from Boston Spa\\...\n",
      "59        Complete  Photographic Studio data\\Sent from Boston Spa\\...\n",
      "60        Complete  Photographic Studio data\\Sent from Boston Spa\\...\n",
      "61        Complete  Photographic Studio data\\Sent from Boston Spa\\...\n",
      "62        Complete  Photographic Studio data\\Sent from Boston Spa\\...\n",
      "63        Complete  Photographic Studio data\\Sent from Boston Spa\\...\n",
      "64        Complete  Photographic Studio data\\The Winchester Manusc...\n",
      "65        Complete       Photographic Studio data\\Z Safe digitisation\n",
      "66        Complete  Royal Digitisation Project\\Royal Digitisation ...\n",
      "67        Complete  Royal Digitisation Project\\Royal Digitisation ...\n",
      "68        Complete                                    Singapore-Malay\n",
      "\n",
      "[69 rows x 2 columns]\n",
      "   EXTENSION_MISMATCH                                          FILE_PATH\n",
      "0                TRUE  \\\\P8L-NAS2\\Singapore-Malay\\Finished Manuscript...\n",
      "1                TRUE  \\\\P8L-NAS2\\AAS Storage\\Sanskrit (PM)\\IOL Sansk...\n",
      "2                TRUE  \\\\P8L-NAS2\\AAS Storage\\Sanskrit (PM)\\IOL Sansk...\n",
      "3                TRUE  \\\\P8L-NAS2\\AAS Storage\\Sanskrit (PM)\\IOL Sansk...\n",
      "4                TRUE  \\\\P8L-NAS2\\AAS Storage\\Sanskrit (PM)\\IOL Sansk...\n",
      "5                TRUE  \\\\P8L-NAS2\\AAS Storage\\Sanskrit (PM)\\IOL Sansk...\n",
      "6                TRUE  \\\\P8L-NAS2\\AAS Storage\\Sanskrit (PM)\\IOL Sansk...\n",
      "7                TRUE  \\\\P8L-NAS2\\AAS Storage\\Sanskrit (PM)\\IOL Sansk...\n",
      "8                TRUE  \\\\P8L-NAS2\\AAS Storage\\Sanskrit (PM)\\IOL Sansk...\n",
      "9                TRUE  \\\\P8L-NAS2\\AAS Storage\\Sanskrit (PM)\\IOL Sansk...\n",
      "10               TRUE  \\\\P8L-NAS2\\AAS Storage\\Sanskrit (PM)\\IOL Sansk...\n",
      "11               TRUE  \\\\P8L-NAS2\\AAS Storage\\Sanskrit (PM)\\IOL Sansk...\n",
      "12               TRUE  \\\\P8L-NAS2\\AAS Storage\\Sanskrit (PM)\\IOL Sansk...\n",
      "13               TRUE  \\\\P8L-NAS2\\AAS Storage\\Sanskrit (PM)\\IOL Sansk...\n",
      "14               TRUE  \\\\P8L-NAS2\\AAS Storage\\Sanskrit (PM)\\IOL Sansk...\n",
      "15               TRUE  \\\\P8L-NAS2\\AAS Storage\\Sanskrit (PM)\\IOL Sansk...\n",
      "16               TRUE  \\\\P8L-NAS2\\AAS Storage\\Sanskrit (PM)\\IOL Sansk...\n",
      "17               TRUE  \\\\P8L-NAS2\\AAS Storage\\Sanskrit (PM)\\IOL Sansk...\n",
      "18               TRUE  \\\\P8L-NAS2\\AAS Storage\\Sanskrit (PM)\\IOL Sansk...\n",
      "19               TRUE  \\\\P8L-NAS2\\AAS Storage\\Sanskrit (PM)\\IOL Sansk...\n",
      "20               TRUE  \\\\P8L-NAS2\\AAS Storage\\Sanskrit (PM)\\IOL Sansk...\n",
      "21               TRUE  \\\\P8L-NAS2\\AAS Storage\\Sanskrit (PM)\\IOL Sansk...\n",
      "22               TRUE  \\\\P8L-NAS2\\AAS Storage\\Sanskrit (PM)\\IOL Sansk...\n",
      "23               TRUE  \\\\P8L-NAS2\\AAS Storage\\Sanskrit (PM)\\IOL Sansk...\n",
      "24               TRUE  \\\\P8L-NAS2\\AAS Storage\\Sanskrit (PM)\\IOL Sansk...\n",
      "25               TRUE  \\\\P8L-NAS2\\AAS Storage\\Sanskrit (PM)\\IOL Sansk...\n",
      "26               TRUE  \\\\P8L-NAS2\\AAS Storage\\Sanskrit (PM)\\IOL Sansk...\n",
      "27               TRUE  \\\\P8L-NAS2\\AAS Storage\\Sanskrit (PM)\\IOL Sansk...\n",
      "28               TRUE  \\\\P8L-NAS2\\AAS Storage\\Sanskrit (PM)\\IOL Sansk...\n",
      "29               TRUE  \\\\P8L-NAS2\\AAS Storage\\Sanskrit (PM)\\IOL Sansk...\n",
      "..                ...                                                ...\n",
      "67               TRUE  \\\\P8L-NAS2\\AAS Storage\\Urdu (South Asia team)\\...\n",
      "68               TRUE  \\\\P8L-NAS2\\AAS Storage\\Urdu (South Asia team)\\...\n",
      "69               TRUE  \\\\P8L-NAS2\\AAS Storage\\Urdu (South Asia team)\\...\n",
      "70               TRUE  \\\\P8L-NAS2\\AAS Storage\\Urdu (South Asia team)\\...\n",
      "71               TRUE  \\\\P8L-NAS2\\AAS Storage\\Urdu (South Asia team)\\...\n",
      "72               TRUE  \\\\P8L-NAS2\\AAS Storage\\Urdu (South Asia team)\\...\n",
      "73               TRUE  \\\\P8L-NAS2\\AAS Storage\\Urdu (South Asia team)\\...\n",
      "74               TRUE  \\\\P8L-NAS2\\AAS Storage\\Urdu (South Asia team)\\...\n",
      "75               TRUE  \\\\P8L-NAS2\\AAS Storage\\Urdu (South Asia team)\\...\n",
      "76               TRUE  \\\\P8L-NAS2\\AAS Storage\\Urdu (South Asia team)\\...\n",
      "77               TRUE  \\\\P8L-NAS2\\AAS Storage\\Urdu (South Asia team)\\...\n",
      "78               TRUE  \\\\P8L-NAS2\\AAS Storage\\Urdu (South Asia team)\\...\n",
      "79               TRUE  \\\\P8L-NAS2\\AAS Storage\\Urdu (South Asia team)\\...\n",
      "80               TRUE  \\\\P8L-NAS2\\AAS Storage\\Urdu (South Asia team)\\...\n",
      "81               TRUE  \\\\P8L-NAS2\\AAS Storage\\Urdu (South Asia team)\\...\n",
      "82               TRUE  \\\\P8L-NAS2\\AAS Storage\\Urdu (South Asia team)\\...\n",
      "83               TRUE  \\\\P8L-NAS2\\AAS Storage\\Urdu (South Asia team)\\...\n",
      "84               TRUE  \\\\P8L-NAS2\\AAS Storage\\Urdu (South Asia team)\\...\n",
      "85               TRUE  \\\\P8L-NAS2\\AAS Storage\\Urdu (South Asia team)\\...\n",
      "86               TRUE  \\\\P8L-NAS2\\AAS Storage\\Urdu (South Asia team)\\...\n",
      "87               TRUE  \\\\P8L-NAS2\\AAS Storage\\Urdu (South Asia team)\\...\n",
      "88               TRUE  \\\\P8L-NAS2\\AAS Storage\\Urdu (South Asia team)\\...\n",
      "89               TRUE  \\\\P8L-NAS2\\AAS Storage\\Urdu (South Asia team)\\...\n",
      "90               TRUE  \\\\P8L-NAS2\\AAS Storage\\Urdu (South Asia team)\\...\n",
      "91               TRUE  \\\\P8L-NAS2\\AAS Storage\\Urdu (South Asia team)\\...\n",
      "92               TRUE  \\\\P8L-NAS2\\AAS Storage\\Urdu (South Asia team)\\...\n",
      "93               TRUE  \\\\P8L-NAS2\\AAS Storage\\Urdu (South Asia team)\\...\n",
      "94               TRUE  \\\\P8L-NAS2\\AAS Storage\\Urdu (South Asia team)\\...\n",
      "95               TRUE  \\\\P8L-NAS2\\AAS Storage\\Urdu (South Asia team)\\...\n",
      "96               TRUE  \\\\P8L-NAS2\\AAS Storage\\Mongolian (SC - BQ)\\Ori...\n",
      "\n",
      "[97 rows x 2 columns]\n",
      "                                         folder_path  system_num  shelfmark  \\\n",
      "0  AAS Storage\\Korean (HT)\\NLK Project\\15026_d_3\\...    17852506  15026.d.3   \n",
      "1  AAS Storage\\Korean (HT)\\NLK Project\\15212_e_8\\...    17846046  15212.e.8   \n",
      "\n",
      "  pub_place                                              title date_end  \\\n",
      "0     Korea       880-02 Pǒnyǒk myŏngǔijip / Pobun p'yŏn.     None   \n",
      "1     Korea  880-02 Samgo illam myǒngsǒ sangnon / Pang Ky...     None   \n",
      "\n",
      "  date_range date_start author author_dates  \\\n",
      "0       None       None   None         None   \n",
      "1       None       None   None         None   \n",
      "\n",
      "                             extent_format  \n",
      "0  7 volumes in 1 : 1 illustration ; 33 cm  \n",
      "1                   3 volumes in 1 ; 32 cm  \n"
     ]
    }
   ],
   "source": [
    "#Import the SQLite3 library and name it 'sql'\n",
    "import sqlite3 as sql\n",
    "#Import the Pandas library and name it 'pd'\n",
    "import pandas as pd\n",
    "\n",
    "#Assign an SQL query to meaningful variable\n",
    "#Calculate file sizes using query explained above\n",
    "#'query_name' = 'SQL query'\n",
    "calculate_file_sizes = \"SELECT COUNT(ID) AS tif_count, MIN(SIZE) AS min_tif_size_B, MAX(SIZE) AS max_tif_size_B, MAX(SIZE)/1024/1024 AS max_tif_size_MB, AVG(SIZE)/1024/1024 AS avg_tiff_size_MB, AVG(SIZE)/1024/1024/2012/1024 AS avg_tiff_size_TB, SUM(SIZE)/1024/1024/1024/1024 AS total_tiff_size_TB FROM source_AAC_Siegfried_201908 WHERE EXT = 'tif'\"\n",
    "#Display the analysis_status and analysis_folder columns from the analysis_log table for all folders marked 'Complete'\n",
    "folders_analysed = \"SELECT analysis_status, analysis_folder FROM analysis_log WHERE analysis_status = 'Complete'\"\n",
    "#Display the EXTENSION_MISMATCH and FILE_PATH columns from the analysis_log table for all files marked 'True'\n",
    "ext_mismatches = \"SELECT EXTENSION_MISMATCH, FILE_PATH FROM source_AAC_Siegfried_201908 WHERE EXTENSION_MISMATCH = 'TRUE'\" \n",
    "\n",
    "def run_query(query):\n",
    "    #Create the connection to the database (saved as PIMMS.db)\n",
    "    con = sql.connect(r'../DatabaseDesign/PIMMS.db')\n",
    "    #Create the dataframe from a SQL query defined above\n",
    "    df = pd.read_sql_query(query, con)\n",
    "    #Print the results of the query\n",
    "    print(df)\n",
    "    #Close the connection to the database\n",
    "    con.close()\n",
    "\n",
    "#Run the Python function using the SQL query in the query variable assigned above\n",
    "#'query_function'('query_name')\n",
    "run_query(calculate_file_sizes)\n",
    "run_query(folders_analysed)\n",
    "run_query(ext_mismatches)"
   ]
  },
  {
   "cell_type": "markdown",
   "metadata": {},
   "source": [
    "This is a query to run calculations of file sizes for storage planning and analysis, to be run directly in SQLite. References: https://www.w3schools.com/sql/sql_count_avg_sum.asp and https://www.techspot.com/news/68482-quickly-convert-between-storage-size-units-kb-mb.html"
   ]
  },
  {
   "cell_type": "code",
   "execution_count": null,
   "metadata": {},
   "outputs": [],
   "source": [
    "SELECT \n",
    "\tCOUNT(ID) AS tif_count,\n",
    "\tMIN(SIZE) AS min_tif_size_B,\n",
    "\tMAX(SIZE) AS max_tif_size_B,\n",
    "\tMAX(SIZE)/1024/1024 AS max_tif_size_MB,\n",
    "\tAVG(SIZE)/1024/1024 AS avg_tiff_size_MB,\n",
    "\tAVG(SIZE)/1024/1024/2012/1024 AS avg_tiff_size_TB,\n",
    "\tSUM(SIZE)/1024/1024/1024/1024 AS total_tiff_size_TB\n",
    "FROM source_AAC_Siegfried_201908\n",
    "WHERE EXT = 'tif';"
   ]
  },
  {
   "cell_type": "markdown",
   "metadata": {},
   "source": [
    "### The following are SQL queries to join multiple tables based on matching or related elements. They can be run directly in DB Browser for SQLite and exported as csv or saved as 'views'."
   ]
  },
  {
   "cell_type": "markdown",
   "metadata": {},
   "source": [
    "This is a SQLite query to join columns from two tables in the database based on common fields. Reference: https://www.sqlitetutorial.net/sqlite-inner-join/. "
   ]
  },
  {
   "cell_type": "code",
   "execution_count": null,
   "metadata": {},
   "outputs": [],
   "source": [
    "SELECT 'source_AMEMM_SelfAnalysis'.ms_shelfmark, 'source_AMEMM_SelfAnalysis'.pro_title, 'source_AMEMM_SelfAnalysis'.ms_location, 'source_AMEMM_SelfAnalysis'.pro_details,  source_AMEMM_IAMS.*\n",
    "FROM 'source_AMEMM_SelfAnalysis'\n",
    "INNER JOIN source_AMEMM_IAMS ON 'source_AMEMM_SelfAnalysis'.ms_shelfmark = source_AMEMM_IAMS.'Record reference'\n",
    "WHERE source_AMEMM_IAMS.Languages = 'French';"
   ]
  },
  {
   "cell_type": "markdown",
   "metadata": {},
   "source": [
    "This is a SQL query to join columns from three source tables in the database based on common fields. Reference: https://stackoverflow.com/questions/3492904/mysql-select-all-columns-from-one-table-and-some-from-another-table. "
   ]
  },
  {
   "cell_type": "code",
   "execution_count": null,
   "metadata": {},
   "outputs": [],
   "source": [
    "SELECT 'ingest_Royal I Finished combined'.*, source_AMEMM_HMDAnalysis.*\n",
    "FROM 'ingest_Royal I Finished combined'\n",
    "INNER JOIN source_AMEMM_HMDAnalysis ON 'ingest_Royal I Finished combined'.shelfmark = source_AMEMM_HMDAnalysis.shelfmark;"
   ]
  },
  {
   "cell_type": "markdown",
   "metadata": {},
   "source": [
    "This is a SQLite query to join columns from three target tables in the database, which have had their data normalised."
   ]
  },
  {
   "cell_type": "code",
   "execution_count": null,
   "metadata": {},
   "outputs": [],
   "source": [
    "SELECT folder_history.folder_path AS 'folderpath', items_aleph.*\n",
    "FROM items_aleph\n",
    "INNER JOIN folder_history ON folder_history.folder_id = folders_items.folder_id\n",
    "INNER JOIN folders_items ON folders_items.system_num = items_aleph.system_num;"
   ]
  },
  {
   "cell_type": "markdown",
   "metadata": {},
   "source": [
    "### The following are SQL and Python scripts to copy select data from source tables into target tables"
   ]
  },
  {
   "cell_type": "markdown",
   "metadata": {},
   "source": [
    "This is a SQLite query to select data from the source tables and copy it into correct columns of the associated target tables. Reference: https://www.w3schools.com/sql/sql_insert_into_select.asp"
   ]
  },
  {
   "cell_type": "code",
   "execution_count": null,
   "metadata": {},
   "outputs": [],
   "source": [
    "#Insert data into each of the columns of the target table (twitter_analytics)\n",
    "INSERT INTO twitter_analytics (permalink, tweet_text, impressions, engagment_rate, replies, retweets, likes, link_clicks)\n",
    "#Select the data from each of the columns from the corresponding source table (source_Twitter_Analytics)\n",
    "SELECT \"Tweet permalink\", \"Tweet text\", \"impressions\", \"engagement rate\", \"replies\", \"retweets\", \"likes\", \"url clicks\" \n",
    "FROM source_Twitter_Analytics \n",
    "#Add a constraint to the selected data (the number of URL clicks is higher than 50)\n",
    "WHERE \"url clicks\" > 50;"
   ]
  }
 ],
 "metadata": {
  "kernelspec": {
   "display_name": "Python 3",
   "language": "python",
   "name": "python3"
  },
  "language_info": {
   "codemirror_mode": {
    "name": "ipython",
    "version": 3
   },
   "file_extension": ".py",
   "mimetype": "text/x-python",
   "name": "python",
   "nbconvert_exporter": "python",
   "pygments_lexer": "ipython3",
   "version": "3.7.3"
  }
 },
 "nbformat": 4,
 "nbformat_minor": 2
}

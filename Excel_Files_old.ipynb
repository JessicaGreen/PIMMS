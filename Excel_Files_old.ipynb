{
 "cells": [
  {
   "cell_type": "markdown",
   "metadata": {},
   "source": [
    "Since sqlalchemy was already installed, I don't need to pip install\n",
    "This is a function to call a database using its folder path on my computer\n",
    "Code taken from: https://stackoverflow.com/questions/47432988/openpyxl-read-out-excel-and-save-into-database"
   ]
  },
  {
   "cell_type": "code",
   "execution_count": 24,
   "metadata": {
    "scrolled": false
   },
   "outputs": [],
   "source": [
    "from sqlalchemy import create_engine\n",
    "import pandas as pd\n",
    "\n",
    "def initialise_database(database_path):\n",
    "    db = create_engine('sqlite:///%s' % database_path)\n",
    "\n",
    "\n",
    "initialise_database('../DatabaseDesign/PIMMS.db')               "
   ]
  },
  {
   "cell_type": "markdown",
   "metadata": {},
   "source": [
    "This is a function to import data from a data source into a source table in my database\n",
    "I've created a list of all my data sources to loop over"
   ]
  },
  {
   "cell_type": "code",
   "execution_count": 29,
   "metadata": {},
   "outputs": [
    {
     "name": "stdout",
     "output_type": "stream",
     "text": [
      "['../DataSources/AMEMM_SelfAnalysis.xlsx', '../DataSources/AMEMM_DAR_Datasets.xlsx', '../DataSources/AMEMM_LegacyAnalysis.xlsx', '../DataSources/AsianAfrican_Aleph.xlsx', '../DataSources/AsianAfrican_IAMS.xlsx', '../DataSources/AsianAfrican_LegacyAnalysis.xlsx']\n"
     ]
    }
   ],
   "source": [
    "def import_source(data_source_path):\n",
    "    df = pd.read_excel(data_source_path)\n",
    "    df.to_sql('source_amemm', db, if_exists='fail')\n",
    "    #db.execute('''SELECT * FROM source_amemm''').fetchall() \n",
    "    \n",
    "data_source_names = ['AMEMM_SelfAnalysis', 'AMEMM_DAR_Datasets', 'AMEMM_LegacyAnalysis', 'AsianAfrican_Aleph', 'AsianAfrican_IAMS', 'AsianAfrican_LegacyAnalysis']\n",
    "data_sources = ['../DataSources/%s.xlsx' % name for name in data_source_names]\n",
    "print(data_sources)\n",
    "#import_source('../DataSources/AMEMM_LegacyAnalysis.xlsx')"
   ]
  },
  {
   "cell_type": "code",
   "execution_count": null,
   "metadata": {},
   "outputs": [],
   "source": []
  }
 ],
 "metadata": {
  "kernelspec": {
   "display_name": "Python 3",
   "language": "python",
   "name": "python3"
  },
  "language_info": {
   "codemirror_mode": {
    "name": "ipython",
    "version": 3
   },
   "file_extension": ".py",
   "mimetype": "text/x-python",
   "name": "python",
   "nbconvert_exporter": "python",
   "pygments_lexer": "ipython3",
   "version": "3.7.3"
  }
 },
 "nbformat": 4,
 "nbformat_minor": 2
}

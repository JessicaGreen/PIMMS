{
 "cells": [
  {
   "cell_type": "markdown",
   "metadata": {},
   "source": [
    "Since sqlalchemy was already installed, I don't need to pip install\n",
    "This is a function to call a database using its folder path on my computer\n",
    "Code taken from: https://stackoverflow.com/questions/47432988/openpyxl-read-out-excel-and-save-into-database"
   ]
  },
  {
   "cell_type": "code",
   "execution_count": 31,
   "metadata": {},
   "outputs": [],
   "source": [
    "from sqlalchemy import create_engine\n",
    "import pandas as pd\n",
    "\n",
    "def initialise_database(database_path):\n",
    "    db = create_engine('sqlite:///%s' % database_path)\n",
    "\n",
    "initialise_database('../DatabaseDesign/PIMMS.db')               "
   ]
  },
  {
   "cell_type": "markdown",
   "metadata": {},
   "source": [
    "This is code to import data from Excel files into source tables in my PIMMS database"
   ]
  },
  {
   "cell_type": "code",
   "execution_count": 51,
   "metadata": {},
   "outputs": [],
   "source": [
    "df = pd.read_excel('../DataSources/SP_ProjectPlanning.xlsx')\n",
    "df.to_sql('source_SP_ProjectPlanning', db, if_exists='append')\n"
   ]
  },
  {
   "cell_type": "markdown",
   "metadata": {},
   "source": [
    "These are failed attempts to turn the above code into a function to import data from data sources into source tables in my PIMMS database\n",
    "I've created a list of all my data sources to loop over"
   ]
  },
  {
   "cell_type": "code",
   "execution_count": null,
   "metadata": {},
   "outputs": [],
   "source": [
    "data_source_names = ['AAC_Aleph', 'AAC_HMDAnalysis', 'AAC_IAMS', 'AMEMM_HMDAnalysis', 'AMEMM_IAMS', 'AMEMM_SelfAnalysis', 'DAR_ARWG', 'DAR_Assets', 'DAR_Datasets', 'FolderOverview', 'psip_DCDSpreadsheetOverview', 'psip_PreservationBids', 'SP_ProjectPlanning', 'SP_LiveWorkflow']\n",
    "data_sources = ['../DataSources/%s.xlsx' % name for name in data_source_names]\n",
    "source_tables = ['source_%s' % name for name in data_source_names]\n",
    "\n",
    "def import_source(data_sources):\n",
    "    df = pd.read_excel(data_sources)\n",
    "    df.to_sql(source_tables, db, if_exists='fail')\n",
    "    db.execute('''SELECT * FROM source_tables''').fetchall() \n",
    "\n",
    "print(data_sources)\n",
    "import_source(data_sources)"
   ]
  },
  {
   "cell_type": "code",
   "execution_count": null,
   "metadata": {},
   "outputs": [],
   "source": [
    "def import_source(data_source_path):\n",
    "    df = pd.read_excel(data_source_path)\n",
    "    df.to_sql('source_amemm', db, if_exists='fail')\n",
    "    db.execute('''SELECT * FROM source_ammem''').fetchall() \n",
    "    \n",
    "#data_source_names = ['AMEMM_SelfAnalysis', 'AMEMM_DAR_Datasets', 'AMEMM_LegacyAnalysis', 'AsianAfrican_Aleph', 'AsianAfrican_IAMS', 'AsianAfrican_LegacyAnalysis']\n",
    "#data_sources = ['../DataSources/%s.xlsx' % name for name in data_source_names]\n",
    "#print(data_sources)\n",
    "import_source('../DataSources/AMEMM_SelfAnalysis.xlsx')"
   ]
  },
  {
   "cell_type": "code",
   "execution_count": null,
   "metadata": {},
   "outputs": [],
   "source": [
    "This is code to import csv files as source tables in my PIMMS database"
   ]
  },
  {
   "cell_type": "code",
   "execution_count": null,
   "metadata": {},
   "outputs": [],
   "source": [
    "This is code to import text files as source tables in my PIMMS database"
   ]
  }
 ],
 "metadata": {
  "kernelspec": {
   "display_name": "Python 3",
   "language": "python",
   "name": "python3"
  },
  "language_info": {
   "codemirror_mode": {
    "name": "ipython",
    "version": 3
   },
   "file_extension": ".py",
   "mimetype": "text/x-python",
   "name": "python",
   "nbconvert_exporter": "python",
   "pygments_lexer": "ipython3",
   "version": "3.7.3"
  }
 },
 "nbformat": 4,
 "nbformat_minor": 2
}

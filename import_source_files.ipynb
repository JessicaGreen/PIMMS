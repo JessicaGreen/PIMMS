{
 "cells": [
  {
   "cell_type": "markdown",
   "metadata": {},
   "source": [
    "Since sqlalchemy was already installed, I don't need to pip install\n",
    "This is a function to call a database using its folder path on my computer\n",
    "Code taken from: https://stackoverflow.com/questions/47432988/openpyxl-read-out-excel-and-save-into-database"
   ]
  },
  {
   "cell_type": "code",
   "execution_count": 30,
   "metadata": {},
   "outputs": [],
   "source": [
    "from sqlalchemy import create_engine\n",
    "import pandas as pd\n",
    "\n",
    "def initialise_database(database_path):\n",
    "    db = create_engine('sqlite:///%s' % database_path)\n",
    "    return db\n",
    "\n",
    "db = initialise_database('../DatabaseDesign/PIMMS.db')               "
   ]
  },
  {
   "cell_type": "markdown",
   "metadata": {},
   "source": [
    "This is a function to import data from Excel files into source tables in my PIMMS database\n",
    "If the filename does not exist, it prints an error with the filename\n",
    "If the source table already exists, it prints an error with the table name\n",
    "Source: https://docs.python.org/3/tutorial/errors.html"
   ]
  },
  {
   "cell_type": "code",
   "execution_count": 31,
   "metadata": {},
   "outputs": [
    {
     "name": "stdout",
     "output_type": "stream",
     "text": [
      "The file called ../DataSources/AAC_Alephs.xlsx does not exist\n",
      "The table called source_AAC_HMDAnalysis already exists\n",
      "The table called source_AAC_IAMS already exists\n",
      "The table called source_AMEMM_HMDAnalysis already exists\n",
      "The table called source_AMEMM_IAMS already exists\n",
      "The table called source_AMEMM_SelfAnalysis already exists\n",
      "The table called source_DAR_ARWG already exists\n",
      "The table called source_DAR_Assets already exists\n",
      "The table called source_DAR_Datasets already exists\n",
      "The table called source_FolderOverview already exists\n",
      "The table called source_psip_DCDSpreadsheetOverview already exists\n",
      "The table called source_psip_PreservationBids already exists\n",
      "The table called source_SP_ProjectPlanning already exists\n",
      "The table called source_SP_LiveWorkflow already exists\n"
     ]
    }
   ],
   "source": [
    "source_names = ['AAC_Alephs', 'AAC_HMDAnalysis', 'AAC_IAMS', 'AMEMM_HMDAnalysis', 'AMEMM_IAMS', 'AMEMM_SelfAnalysis', 'DAR_ARWG', 'DAR_Assets', 'DAR_Datasets', 'FolderOverview', 'psip_DCDSpreadsheetOverview', 'psip_PreservationBids', 'SP_ProjectPlanning', 'SP_LiveWorkflow']\n",
    "\n",
    "def import_source(sources):\n",
    "    for source in sources:\n",
    "        filename = '../DataSources/%s.xlsx' % source\n",
    "        try:\n",
    "            df = pd.read_excel(filename)\n",
    "            table = 'source_%s' % source\n",
    "            df.to_sql(table, db, if_exists='fail')\n",
    "        except FileNotFoundError:\n",
    "            print('The file called ' + filename + ' does not exist')\n",
    "        except ValueError:\n",
    "            print('The table called ' + table + ' already exists')\n",
    "\n",
    "import_source(source_names)"
   ]
  },
  {
   "cell_type": "markdown",
   "metadata": {},
   "source": [
    "This is a function to import csv files as source tables in my PIMMS database - adjust to match the function above for excel - store excel and csv in two separate folders and add this to the paths above"
   ]
  },
  {
   "cell_type": "code",
   "execution_count": 29,
   "metadata": {
    "scrolled": true
   },
   "outputs": [],
   "source": [
    "df = pd.read_csv('../DataSources/AuditFoldersFiles/SEAsia_Files_20200207.csv')\n",
    "df.to_sql('source_SEAsia_Files_20200207', db, if_exists='append')\n",
    "\n",
    "\n"
   ]
  },
  {
   "cell_type": "markdown",
   "metadata": {},
   "source": [
    "Ignore below..."
   ]
  },
  {
   "cell_type": "markdown",
   "metadata": {},
   "source": [
    "df = pd.read_excel('../DataSources/FolderOverview.xlsx')\n",
    "df.to_sql('source_FolderOverview', db, if_exists='append')\n"
   ]
  },
  {
   "cell_type": "markdown",
   "metadata": {},
   "source": [
    "These are failed attempts to turn the above code into a function to import data from data sources into source tables in my PIMMS database\n",
    "I've created a list of all my data sources to loop over"
   ]
  },
  {
   "cell_type": "markdown",
   "metadata": {},
   "source": [
    "def import_source(data_source_path):\n",
    "    df = pd.read_excel(data_source_path)\n",
    "    df.to_sql('source_amemm', db, if_exists='fail')\n",
    "    db.execute('''SELECT * FROM source_ammem''').fetchall() \n",
    "    \n",
    "#data_source_names = ['AMEMM_SelfAnalysis', 'AMEMM_DAR_Datasets', 'AMEMM_LegacyAnalysis', 'AsianAfrican_Aleph', 'AsianAfrican_IAMS', 'AsianAfrican_LegacyAnalysis']\n",
    "#data_sources = ['../DataSources/%s.xlsx' % name for name in data_source_names]\n",
    "#print(data_sources)\n",
    "import_source('../DataSources/AMEMM_SelfAnalysis.xlsx')\n",
    "\n",
    "#data_source_list = ['../DataSources/%s.xlsx' % name for name in data_source_names]\n",
    "#source_tables = ['source_%s' % name for name in data_source_names]\n",
    "\n",
    "\n",
    "#db.execute('''SELECT * FROM source_tables''').fetchall() "
   ]
  }
 ],
 "metadata": {
  "kernelspec": {
   "display_name": "Python 3",
   "language": "python",
   "name": "python3"
  },
  "language_info": {
   "codemirror_mode": {
    "name": "ipython",
    "version": 3
   },
   "file_extension": ".py",
   "mimetype": "text/x-python",
   "name": "python",
   "nbconvert_exporter": "python",
   "pygments_lexer": "ipython3",
   "version": "3.7.3"
  }
 },
 "nbformat": 4,
 "nbformat_minor": 2
}

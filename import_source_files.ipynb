{
 "cells": [
  {
   "cell_type": "markdown",
   "metadata": {},
   "source": [
    "### The following are Python scripts to import Excel files into a SQLite database"
   ]
  },
  {
   "cell_type": "markdown",
   "metadata": {},
   "source": [
    "This is a function to call a database using its folder path on my computer. sqlalchemy must be pre-installed. Reference: https://stackoverflow.com/questions/47432988/openpyxl-read-out-excel-and-save-into-database."
   ]
  },
  {
   "cell_type": "code",
   "execution_count": 1,
   "metadata": {},
   "outputs": [],
   "source": [
    "from sqlalchemy import create_engine\n",
    "import pandas as pd\n",
    "\n",
    "def initialise_database(database_path):\n",
    "    db = create_engine('sqlite:///%s' % database_path)\n",
    "    return db\n",
    "\n",
    "#Save this Jupyter notebook in the same folder as the database file, or else add the rest of the file path\n",
    "db = initialise_database('PIMMS.db')               "
   ]
  },
  {
   "cell_type": "markdown",
   "metadata": {},
   "source": [
    "This is a function to import data from Excel files into separate source tables in the PIMMS database. Run this after the script above. References: https://pandas.pydata.org/pandas-docs/stable/reference/api/pandas.DataFrame.to_sql.html and https://docs.python.org/3/tutorial/errors.html."
   ]
  },
  {
   "cell_type": "code",
   "execution_count": 2,
   "metadata": {},
   "outputs": [],
   "source": [
    "#List of Excel files containing raw metadata from various data sources and systems\n",
    "#new_source = ['file_name1', 'file_name2']\n",
    "excel_source_names = ['Aleph_AAC', 'Analysis_AAC', 'Analysis_AMEMM', 'Filemaker_AMEMM', 'IAMS_AAC', 'IAMS_AMEMM','SP_Workflow', 'Twitter_Analytics']\n",
    "\n",
    "\n",
    "def import_excel(sources):\n",
    "    for source in sources:\n",
    "        filename = '../DataSources/excel/%s.xlsx' % source\n",
    "        try:\n",
    "            df = pd.read_excel(filename)\n",
    "            #Name the new table after the file name, prefixed by 'source_' to distinguish from target tables\n",
    "            table = 'source_%s' % source\n",
    "            #If this table already exists in the database, replace it with this new data\n",
    "            df.to_sql(table, db, if_exists='replace')\n",
    "            \n",
    "            #Alternatively, if this table already exists in the database, fail and print error message below\n",
    "            #df.to_sql(table, db, if_exists='fail')\n",
    "        #If the source table already exists, print an error with the table name\n",
    "        #except ValueError:\n",
    "            #print('The table called ' + table + ' already exists')\n",
    "            \n",
    "        #If the filename does not exist or is not exactly written this way in folder, print an error with the filename\n",
    "        except FileNotFoundError:\n",
    "            print('The file called ' + filename + ' does not exist')\n",
    "\n",
    "#Call the import_source function using the list of Excel files\n",
    "#import_excel(new_source)\n",
    "import_excel(excel_source_names)\n"
   ]
  },
  {
   "cell_type": "markdown",
   "metadata": {},
   "source": [
    "This is a function to import a batch of Excel spreadsheets into the same table of the SQLite database. They do require the same number/order of columns - just define which mutual columns you want to import. This example uses ingest spreadsheets."
   ]
  },
  {
   "cell_type": "code",
   "execution_count": null,
   "metadata": {},
   "outputs": [],
   "source": [
    "sources_to_combine = ['DAR 643 - Sherborne Missal', 'DAR 693 Ritsumeikan Japanese Maps master ingest log', 'DAR00610_Polonsky-pre1200_All', 'DAR00675_Sultan_Baybars_Quran', 'DAR00685_Western_African_Manuscripts']\n",
    "\n",
    "def combine_excel(sources):\n",
    "    for source in sources:\n",
    "        filename = '../DataSources/excel/%s.xlsx' % source\n",
    "        try:\n",
    "            df = pd.read_excel(filename, usecols=['Shelfmark', 'Parent', 'Label', 'System number', 'Volume Enumeration', 'Project', 'DAR Number', 'Source Folder', 'Output Folder', 'Ingest Format', 'JP2 Quality'])\n",
    "            #Name the new table after the file name, prefixed by 'ingest_'\n",
    "            table = 'ingest_'\n",
    "            #If the table already exists in the database, add this new data to the table\n",
    "            #Data files need to have the same set of columns\n",
    "            df.to_sql(table, db, if_exists='append')\n",
    "        except FileNotFoundError:\n",
    "            print('The file called ' + filename + ' does not exist')\n",
    "\n",
    "combine_excel(sources_to_combine)"
   ]
  }
 ],
 "metadata": {
  "kernelspec": {
   "display_name": "Python 3",
   "language": "python",
   "name": "python3"
  },
  "language_info": {
   "codemirror_mode": {
    "name": "ipython",
    "version": 3
   },
   "file_extension": ".py",
   "mimetype": "text/x-python",
   "name": "python",
   "nbconvert_exporter": "python",
   "pygments_lexer": "ipython3",
   "version": "3.7.3"
  }
 },
 "nbformat": 4,
 "nbformat_minor": 2
}

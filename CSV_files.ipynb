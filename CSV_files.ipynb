{
 "cells": [
  {
   "cell_type": "markdown",
   "metadata": {},
   "source": [
    "The following imports the pandas library."
   ]
  },
  {
   "cell_type": "code",
   "execution_count": 17,
   "metadata": {},
   "outputs": [],
   "source": [
    "import pandas as pd"
   ]
  },
  {
   "cell_type": "markdown",
   "metadata": {},
   "source": [
    "The following function opens a csv file and turns it into a dictionary. \n",
    "Then you can search for a keyword in a specific column. \n",
    "If the keyword is found, it will add the entire row for each of those matching item to an ordered dictionary."
   ]
  },
  {
   "cell_type": "code",
   "execution_count": 18,
   "metadata": {
    "scrolled": true
   },
   "outputs": [],
   "source": [
    "def readCSV(filename, column, keyword):\n",
    "    import csv\n",
    "    with open(filename, newline = '', encoding = \"utf-8-sig\") as f:\n",
    "        results = []\n",
    "        reader = csv.DictReader(f)\n",
    "        for row in reader:\n",
    "            if keyword in row[column]:\n",
    "                results.append(row)\n",
    "    return results"
   ]
  },
  {
   "cell_type": "markdown",
   "metadata": {},
   "source": [
    "Call the readCSV function and save results to a variable.\n",
    "Enter the name of the csv file. \n",
    "    If not stored in the same folder, add '..' to move up one level in the folder, then go back down with subfolder name and file name.\n",
    "Enter the name of the column to search for keyword.\n",
    "Enter the keyword."
   ]
  },
  {
   "cell_type": "code",
   "execution_count": 19,
   "metadata": {
    "scrolled": true
   },
   "outputs": [],
   "source": [
    "import_data = readCSV('../Data Sources/Analysis_AsianAfrican.csv', 'Shelfmark', 'Arundel MS 4')"
   ]
  },
  {
   "cell_type": "code",
   "execution_count": 20,
   "metadata": {},
   "outputs": [],
   "source": [
    "df = pd.DataFrame(import_data)"
   ]
  },
  {
   "cell_type": "code",
   "execution_count": 21,
   "metadata": {},
   "outputs": [
    {
     "name": "stdout",
     "output_type": "stream",
     "text": [
      "      Shelfmark Parent Label System number Volume enumeration  \\\n",
      "0  Arundel MS 4                                                 \n",
      "1  Arundel MS 4                                                 \n",
      "\n",
      "  Project (if part of a Project) DAR number  \\\n",
      "0                                             \n",
      "1                                             \n",
      "\n",
      "                                       Source folder Output Folder  \\\n",
      "0  \\\\ad\\collections\\AAS Storage\\Avestan (USW)\\MSS...                 \n",
      "1  \\\\ad\\collections\\AAS Storage\\Avestan (USW)\\Ren...                 \n",
      "\n",
      "  Ingest Format  ... IAMS - Institution identifier rules  \\\n",
      "0                ...               ARCHON (Archive Desc)   \n",
      "1                ...               ARCHON (Archive Desc)   \n",
      "\n",
      "    IAMS - Countries rules   IAMS - Structure rules       IAMS - Dates rules  \\\n",
      "0  ISO 3166 (Archive Desc)  ISAD(G)2 (Archive Desc)  ISO 8601 (Archive Desc)   \n",
      "1  ISO 3166 (Archive Desc)  ISAD(G)2 (Archive Desc)  ISO 8601 (Archive Desc)   \n",
      "\n",
      "  IAMS - Name rules                    IAMS - Description rules  \\\n",
      "0                    IAMS Cataloguing Guidelines (Archive Desc)   \n",
      "1                    IAMS Cataloguing Guidelines (Archive Desc)   \n",
      "\n",
      "  IAMS - Relationship categories rules IAMS - Relationship descriptions rules  \\\n",
      "0           ISAAR(CPF)2 (Archive Desc)        MARC 21 Relators (Archive Desc)   \n",
      "1           ISAAR(CPF)2 (Archive Desc)        MARC 21 Relators (Archive Desc)   \n",
      "\n",
      "       IAMS - Language rules       IAMS - Script rules  \n",
      "0  ISO 639-2b (Archive Desc)  ISO 15924 (Archive Desc)  \n",
      "1  ISO 639-2b (Archive Desc)  ISO 15924 (Archive Desc)  \n",
      "\n",
      "[2 rows x 122 columns]\n"
     ]
    }
   ],
   "source": [
    "print(df)"
   ]
  },
  {
   "cell_type": "code",
   "execution_count": null,
   "metadata": {},
   "outputs": [],
   "source": []
  }
 ],
 "metadata": {
  "kernelspec": {
   "display_name": "Python 3",
   "language": "python",
   "name": "python3"
  },
  "language_info": {
   "codemirror_mode": {
    "name": "ipython",
    "version": 3
   },
   "file_extension": ".py",
   "mimetype": "text/x-python",
   "name": "python",
   "nbconvert_exporter": "python",
   "pygments_lexer": "ipython3",
   "version": "3.7.3"
  }
 },
 "nbformat": 4,
 "nbformat_minor": 2
}
